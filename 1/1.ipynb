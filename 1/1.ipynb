{
 "cells": [
  {
   "cell_type": "code",
   "execution_count": 9,
   "metadata": {},
   "outputs": [
    {
     "name": "stdout",
     "output_type": "stream",
     "text": [
      "54877\n"
     ]
    }
   ],
   "source": [
    "with open('1.in') as f:\n",
    "    calibration_lines = f.readlines()\n",
    "\n",
    "calibration_values = []\n",
    "for line in calibration_lines:\n",
    "    first_digit = None\n",
    "    last_digit = None\n",
    "    i = 0\n",
    "    while first_digit is None or last_digit is None:\n",
    "        if first_digit is None and line[i].isdigit():\n",
    "            first_digit = int(line[i])\n",
    "        if last_digit is None and line[-1*(i+1)].isdigit():\n",
    "            last_digit = int(line[-1*(i+1)])\n",
    "        i+=1\n",
    "    calibration_values.append(first_digit*10 + last_digit)\n",
    "print(sum(calibration_values))"
   ]
  },
  {
   "cell_type": "code",
   "execution_count": 10,
   "metadata": {},
   "outputs": [
    {
     "name": "stdout",
     "output_type": "stream",
     "text": [
      "54100\n"
     ]
    }
   ],
   "source": [
    "word_nums = {\n",
    "    'one': 1,\n",
    "    'two': 2,\n",
    "    'three': 3,\n",
    "    'four': 4,\n",
    "    'five': 5,\n",
    "    'six': 6,\n",
    "    'seven': 7,\n",
    "    'eight': 8,\n",
    "    'nine': 9\n",
    "}\n",
    "\n",
    "def find_wordnum(string, i, direction):\n",
    "    wordnum = None\n",
    "    for word in word_nums.keys():\n",
    "        if direction == 1:\n",
    "            if string[i:i+len(word)] == word:\n",
    "                wordnum = word_nums[word]\n",
    "                break\n",
    "        else:\n",
    "            if string[i-len(word)+1:i+1] == word:\n",
    "                wordnum = word_nums[word]\n",
    "                break\n",
    "    return wordnum\n",
    "\n",
    "with open('1.in') as f:\n",
    "    calibration_lines = f.readlines()\n",
    "\n",
    "calibration_values = []\n",
    "for line in calibration_lines:\n",
    "    first_digit = None\n",
    "    last_digit = None\n",
    "    i = 0\n",
    "    j = len(line)-1\n",
    "    while first_digit is None or last_digit is None:\n",
    "        if first_digit is None:\n",
    "            if line[i].isdigit():\n",
    "                first_digit = int(line[i])\n",
    "            else:\n",
    "                wordnum = find_wordnum(line, i, 1)\n",
    "                if wordnum is not None:\n",
    "                    first_digit = wordnum\n",
    "        if last_digit is None:\n",
    "            if line[j].isdigit():\n",
    "                last_digit = int(line[j])\n",
    "            else:\n",
    "                wordnum = find_wordnum(line, j, -1)\n",
    "                if wordnum is not None:\n",
    "                    last_digit = wordnum\n",
    "        i+=1\n",
    "        j-=1\n",
    "    calibration_values.append(first_digit*10 + last_digit)\n",
    "print(sum(calibration_values))"
   ]
  }
 ],
 "metadata": {
  "kernelspec": {
   "display_name": "Python 3",
   "language": "python",
   "name": "python3"
  },
  "language_info": {
   "codemirror_mode": {
    "name": "ipython",
    "version": 3
   },
   "file_extension": ".py",
   "mimetype": "text/x-python",
   "name": "python",
   "nbconvert_exporter": "python",
   "pygments_lexer": "ipython3",
   "version": "3.8.10"
  }
 },
 "nbformat": 4,
 "nbformat_minor": 2
}
