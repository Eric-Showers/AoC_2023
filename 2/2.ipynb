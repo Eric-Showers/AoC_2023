{
 "cells": [
  {
   "cell_type": "code",
   "execution_count": 39,
   "metadata": {},
   "outputs": [
    {
     "name": "stdout",
     "output_type": "stream",
     "text": [
      "3099\n"
     ]
    }
   ],
   "source": [
    "constraints = {'r':12, 'g':13, 'b':14}  # Red, green, blue\n",
    "possible_sum = 0\n",
    "\n",
    "with open('2.in') as f:\n",
    "    lines = f.readlines()\n",
    "\n",
    "for i, line in enumerate(lines):\n",
    "    tokens = line.split()\n",
    "    possible = True\n",
    "    for j in range(2, len(tokens), 2):\n",
    "        num = int(tokens[j])\n",
    "        color = tokens[j+1][0]\n",
    "        if num > constraints[color]:\n",
    "            possible = False\n",
    "            break\n",
    "    if possible: \n",
    "        possible_sum += i+1\n",
    "    \n",
    "print(possible_sum)"
   ]
  },
  {
   "cell_type": "code",
   "execution_count": 44,
   "metadata": {},
   "outputs": [
    {
     "name": "stdout",
     "output_type": "stream",
     "text": [
      "72970\n"
     ]
    }
   ],
   "source": [
    "power_sum = 0\n",
    "\n",
    "with open('2.in') as f:\n",
    "    lines = f.readlines()\n",
    "\n",
    "for i, line in enumerate(lines):\n",
    "    tokens = line.split()\n",
    "    mins = {'r':0, 'g':0, 'b':0}\n",
    "    for k in range(2, len(tokens), 2):\n",
    "        num = int(tokens[k])\n",
    "        color = tokens[k+1][0]\n",
    "        if num > mins[color]:\n",
    "            mins[color] = num\n",
    "    product = 1\n",
    "    for num in mins.values():\n",
    "        if num != 0:\n",
    "            product *= num\n",
    "    power_sum += product\n",
    "    \n",
    "print(power_sum)"
   ]
  }
 ],
 "metadata": {
  "kernelspec": {
   "display_name": "Python 3",
   "language": "python",
   "name": "python3"
  },
  "language_info": {
   "codemirror_mode": {
    "name": "ipython",
    "version": 3
   },
   "file_extension": ".py",
   "mimetype": "text/x-python",
   "name": "python",
   "nbconvert_exporter": "python",
   "pygments_lexer": "ipython3",
   "version": "3.8.10"
  }
 },
 "nbformat": 4,
 "nbformat_minor": 2
}
